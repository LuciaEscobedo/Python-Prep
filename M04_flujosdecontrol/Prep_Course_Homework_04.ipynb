{
 "cells": [
  {
   "attachments": {},
   "cell_type": "markdown",
   "metadata": {},
   "source": [
    "## Flujos de Control"
   ]
  },
  {
   "attachments": {},
   "cell_type": "markdown",
   "metadata": {},
   "source": [
    "1) Crear una variable que contenga un elemento del conjunto de números enteros y luego imprimir por pantalla si es mayor o menor a cero"
   ]
  },
  {
   "cell_type": "code",
   "execution_count": 5,
   "metadata": {},
   "outputs": [
    {
     "name": "stdout",
     "output_type": "stream",
     "text": [
      "7  es mayor a cero\n"
     ]
    }
   ],
   "source": [
    "num=7\n",
    "if num <0:\n",
    "    print(num,\" es menor a cero \")\n",
    "elif num > 0:\n",
    "    print(num,\" es mayor a cero\")"
   ]
  },
  {
   "attachments": {},
   "cell_type": "markdown",
   "metadata": {},
   "source": [
    "2) Crear dos variables y un condicional que informe si son del mismo tipo de dato"
   ]
  },
  {
   "cell_type": "code",
   "execution_count": 9,
   "metadata": {},
   "outputs": [
    {
     "name": "stdout",
     "output_type": "stream",
     "text": [
      "son de distinto tipo\n"
     ]
    }
   ],
   "source": [
    "a=2\n",
    "b='2'\n",
    "if type(a)==type(b):\n",
    "    print('son del mismo tipo')\n",
    "else:\n",
    "    print ('son de distinto tipo')\n"
   ]
  },
  {
   "attachments": {},
   "cell_type": "markdown",
   "metadata": {},
   "source": [
    "3) Para los valores enteros del 1 al 20, imprimir por pantalla si es par o impar"
   ]
  },
  {
   "cell_type": "code",
   "execution_count": 11,
   "metadata": {},
   "outputs": [
    {
     "name": "stdout",
     "output_type": "stream",
     "text": [
      "1  es Impar\n",
      "2  es Par\n",
      "3  es Impar\n",
      "4  es Par\n",
      "5  es Impar\n",
      "6  es Par\n",
      "7  es Impar\n",
      "8  es Par\n",
      "9  es Impar\n",
      "10  es Par\n",
      "11  es Impar\n",
      "12  es Par\n",
      "13  es Impar\n",
      "14  es Par\n",
      "15  es Impar\n",
      "16  es Par\n",
      "17  es Impar\n",
      "18  es Par\n",
      "19  es Impar\n",
      "20  es Par\n"
     ]
    }
   ],
   "source": [
    "for i in range (1,21):\n",
    "    if i%2==0:\n",
    "        print(i,\" es Par\")\n",
    "    else:\n",
    "        print(i, \" es Impar\")\n"
   ]
  },
  {
   "attachments": {},
   "cell_type": "markdown",
   "metadata": {},
   "source": [
    "4) En un ciclo for mostrar para los valores entre 0 y 5 el resultado de elevarlo a la potencia igual a 3"
   ]
  },
  {
   "cell_type": "code",
   "execution_count": 14,
   "metadata": {},
   "outputs": [
    {
     "name": "stdout",
     "output_type": "stream",
     "text": [
      "0  elevado a la 3ra potencia es =  0\n",
      "1  elevado a la 3ra potencia es =  1\n",
      "2  elevado a la 3ra potencia es =  8\n",
      "3  elevado a la 3ra potencia es =  27\n",
      "4  elevado a la 3ra potencia es =  64\n",
      "5  elevado a la 3ra potencia es =  125\n"
     ]
    }
   ],
   "source": [
    "for i in range(0,6):\n",
    "    print(i,' elevado a la 3ra potencia es = ',i**3,)"
   ]
  },
  {
   "attachments": {},
   "cell_type": "markdown",
   "metadata": {},
   "source": [
    "5) Crear una variable que contenga un número entero y realizar un ciclo for la misma cantidad de ciclos"
   ]
  },
  {
   "cell_type": "code",
   "execution_count": 15,
   "metadata": {},
   "outputs": [
    {
     "name": "stdout",
     "output_type": "stream",
     "text": [
      "0\n",
      "1\n",
      "2\n",
      "3\n",
      "4\n"
     ]
    }
   ],
   "source": [
    "n=5\n",
    "for i in range(n):\n",
    "    print(i)\n"
   ]
  },
  {
   "attachments": {},
   "cell_type": "markdown",
   "metadata": {},
   "source": [
    "6) Utilizar un ciclo while para realizar el factorial de un número guardado en una variable, sólo si la variable contiene un número entero mayor a 0"
   ]
  },
  {
   "cell_type": "code",
   "execution_count": 22,
   "metadata": {},
   "outputs": [
    {
     "name": "stdout",
     "output_type": "stream",
     "text": [
      "120\n"
     ]
    }
   ],
   "source": [
    "num=5\n",
    "factorial=1\n",
    "while(num>1):\n",
    "        \n",
    "    factorial *=num\n",
    "    num-=1\n",
    "        \n",
    "print(factorial)\n",
    "\n",
    "    "
   ]
  },
  {
   "attachments": {},
   "cell_type": "markdown",
   "metadata": {},
   "source": [
    "7) Crear un ciclo for dentro de un ciclo while"
   ]
  },
  {
   "cell_type": "code",
   "execution_count": 26,
   "metadata": {},
   "outputs": [
    {
     "name": "stdout",
     "output_type": "stream",
     "text": [
      "Hola\n",
      "Mundo!!\n",
      "Hola\n",
      "Mundo!!\n",
      "Mundo!!\n",
      "Hola\n",
      "Mundo!!\n",
      "Mundo!!\n",
      "Mundo!!\n",
      "Hola\n",
      "Mundo!!\n",
      "Mundo!!\n",
      "Mundo!!\n",
      "Mundo!!\n"
     ]
    }
   ],
   "source": [
    "n=1\n",
    "while n<5:\n",
    "    print('Hola')\n",
    "    for i in range(1,n+1):\n",
    "        print('Mundo!!')\n",
    "    n+=1"
   ]
  },
  {
   "attachments": {},
   "cell_type": "markdown",
   "metadata": {},
   "source": [
    "8) Crear un ciclo while dentro de un ciclo for"
   ]
  },
  {
   "cell_type": "code",
   "execution_count": 39,
   "metadata": {},
   "outputs": [
    {
     "name": "stdout",
     "output_type": "stream",
     "text": [
      "Hola\n",
      "Mundo!!\n",
      "Mundo!!\n",
      "Mundo!!\n",
      "Mundo!!\n",
      "Mundo!!\n",
      "Hola\n",
      "Mundo!!\n",
      "Mundo!!\n",
      "Mundo!!\n",
      "Mundo!!\n",
      "Mundo!!\n",
      "Hola\n",
      "Mundo!!\n",
      "Mundo!!\n",
      "Mundo!!\n",
      "Mundo!!\n",
      "Mundo!!\n",
      "Hola\n",
      "Mundo!!\n",
      "Mundo!!\n",
      "Mundo!!\n",
      "Mundo!!\n",
      "Mundo!!\n"
     ]
    }
   ],
   "source": [
    "n=5\n",
    "for i in range(1,n):\n",
    "    print('Hola')\n",
    "    n1=n\n",
    "    while n1>0:\n",
    "        print('Mundo!!')\n",
    "        n1-=1\n",
    "        if n1 <= 0:\n",
    "            break \n",
    "        "
   ]
  },
  {
   "attachments": {},
   "cell_type": "markdown",
   "metadata": {},
   "source": [
    "9) Imprimir los números primos existentes entre 0 y 30"
   ]
  },
  {
   "cell_type": "code",
   "execution_count": 23,
   "metadata": {},
   "outputs": [
    {
     "name": "stdout",
     "output_type": "stream",
     "text": [
      "2\n",
      "3\n",
      "5\n",
      "7\n",
      "11\n",
      "13\n",
      "17\n",
      "19\n",
      "23\n",
      "29\n"
     ]
    }
   ],
   "source": [
    "\n",
    "for n in range(2, 31):\n",
    "    primo = True\n",
    "    for i in range(2,n):\n",
    "        if (n % i == 0):\n",
    "            primo = False\n",
    "            break\n",
    "    if primo:    \n",
    "        print(n)\n",
    "        "
   ]
  },
  {
   "attachments": {},
   "cell_type": "markdown",
   "metadata": {},
   "source": [
    "10) ¿Se puede mejorar el proceso del punto 9? Utilizar las sentencias break y/ó continue para tal fin"
   ]
  },
  {
   "cell_type": "code",
   "execution_count": 25,
   "metadata": {},
   "outputs": [
    {
     "name": "stdout",
     "output_type": "stream",
     "text": [
      "2\n",
      "3\n",
      "5\n",
      "7\n",
      "11\n",
      "13\n",
      "17\n",
      "19\n",
      "23\n",
      "29\n"
     ]
    }
   ],
   "source": [
    "for n in range(2, 31):\n",
    "    primo = True\n",
    "    for i in range(2,n):\n",
    "        if (n % i == 0):\n",
    "            primo = False\n",
    "            break\n",
    "    if primo:    \n",
    "        print(n)"
   ]
  },
  {
   "attachments": {},
   "cell_type": "markdown",
   "metadata": {},
   "source": [
    "11) En los puntos 9 y 10, se diseño un código que encuentra números primos y además se lo optimizó. ¿Es posible saber en qué medida se optimizó?"
   ]
  },
  {
   "cell_type": "code",
   "execution_count": null,
   "metadata": {},
   "outputs": [],
   "source": [
    "#se realizan menos ciclos"
   ]
  },
  {
   "attachments": {},
   "cell_type": "markdown",
   "metadata": {},
   "source": [
    "12) Aplicando continue, armar un ciclo while que solo imprima los valores divisibles por 12, dentro del rango de números de 100 a 300"
   ]
  },
  {
   "cell_type": "code",
   "execution_count": 31,
   "metadata": {},
   "outputs": [
    {
     "name": "stdout",
     "output_type": "stream",
     "text": [
      "108\n",
      "120\n",
      "132\n",
      "144\n",
      "156\n",
      "168\n",
      "180\n",
      "192\n",
      "204\n",
      "216\n",
      "228\n",
      "240\n",
      "252\n",
      "264\n",
      "276\n",
      "288\n",
      "300\n"
     ]
    }
   ],
   "source": [
    "n=1\n",
    "while n<=300:\n",
    "    if n>=100 and n % 12==0:\n",
    "        print(n)   \n",
    "    n+=1\n",
    "    \n",
    "       "
   ]
  },
  {
   "attachments": {},
   "cell_type": "markdown",
   "metadata": {},
   "source": [
    "13) Utilizar la función **input()** que permite hacer ingresos por teclado, para encontrar números primos y dar la opción al usario de buscar el siguiente"
   ]
  },
  {
   "cell_type": "code",
   "execution_count": 41,
   "metadata": {},
   "outputs": [
    {
     "name": "stdout",
     "output_type": "stream",
     "text": [
      "El siguiente número primo es: 23\n"
     ]
    }
   ],
   "source": [
    "n = int(input(\"Ingresa un número: \"))\n",
    "encontrado = False\n",
    "\n",
    "while not encontrado:\n",
    "    n += 1 \n",
    "    primo = True\n",
    "\n",
    "    for i in range(2, n):\n",
    "        if n % i == 0:\n",
    "            primo = False\n",
    "            break\n",
    "\n",
    "    if primo:\n",
    "        print(f\"El siguiente número primo es: {n}\")\n",
    "        encontrado = True\n",
    "          \n",
    "    "
   ]
  },
  {
   "attachments": {},
   "cell_type": "markdown",
   "metadata": {},
   "source": [
    "14) Crear un ciclo while que encuentre dentro del rango de 100 a 300 el primer número divisible por 3 y además múltiplo de 6"
   ]
  },
  {
   "cell_type": "code",
   "execution_count": 2,
   "metadata": {},
   "outputs": [
    {
     "name": "stdout",
     "output_type": "stream",
     "text": [
      "102\n"
     ]
    }
   ],
   "source": [
    "n=1\n",
    "\n",
    "while n<=300:\n",
    "    if n>=100 and n%6==0 :\n",
    "        print(n) \n",
    "        break  \n",
    "    n+=1"
   ]
  }
 ],
 "metadata": {
  "interpreter": {
   "hash": "c85384e4cb51c8b72350f3a8712cc8351fdc3955e32a27f9b60c6242ab125f01"
  },
  "kernelspec": {
   "display_name": "Python 3 (ipykernel)",
   "language": "python",
   "name": "python3"
  },
  "language_info": {
   "codemirror_mode": {
    "name": "ipython",
    "version": 3
   },
   "file_extension": ".py",
   "mimetype": "text/x-python",
   "name": "python",
   "nbconvert_exporter": "python",
   "pygments_lexer": "ipython3",
   "version": "3.10.11"
  }
 },
 "nbformat": 4,
 "nbformat_minor": 4
}
